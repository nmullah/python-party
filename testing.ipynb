{
  "metadata": {
    "kernelspec": {
      "name": "python",
      "display_name": "Python (Pyodide)",
      "language": "python"
    },
    "language_info": {
      "codemirror_mode": {
        "name": "python",
        "version": 3
      },
      "file_extension": ".py",
      "mimetype": "text/x-python",
      "name": "python",
      "nbconvert_exporter": "python",
      "pygments_lexer": "ipython3",
      "version": "3.8"
    }
  },
  "nbformat_minor": 5,
  "nbformat": 4,
  "cells": [
    {
      "id": "9a8c2111-5579-4776-b31c-f94e0bdc1b4a",
      "cell_type": "code",
      "source": "the_world_is_flat = True\nif the_world_is_flat:\n    print(\"Be careful not to fall off!\")\n    ",
      "metadata": {
        "trusted": true
      },
      "outputs": [
        {
          "name": "stdout",
          "output_type": "stream",
          "text": "Be careful not to fall off!\n"
        }
      ],
      "execution_count": 1
    },
    {
      "id": "8e409a43-9d3a-4f0e-86f1-cc941c429b42",
      "cell_type": "code",
      "source": "print (\"Hello World\")\n\n",
      "metadata": {
        "trusted": true
      },
      "outputs": [
        {
          "name": "stdout",
          "output_type": "stream",
          "text": "Hello World\n"
        }
      ],
      "execution_count": 2
    },
    {
      "id": "97e718f3-ae47-4fa4-b1de-25c9be27384f",
      "cell_type": "code",
      "source": "",
      "metadata": {
        "trusted": true
      },
      "outputs": [],
      "execution_count": null
    }
  ]
}